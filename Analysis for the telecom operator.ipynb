{
 "cells": [
  {
   "cell_type": "markdown",
   "metadata": {},
   "source": [
    "# <center><font color='#800080'>Analysis for the telecom operator Megaline</font></center>"
   ]
  },
  {
   "cell_type": "markdown",
   "metadata": {},
   "source": [
    "<center><img src=\"megaline.jpg\"> </center>"
   ]
  },
  {
   "cell_type": "markdown",
   "metadata": {},
   "source": [
    "## Contents <a class=\"anchor\" id=\"contents\"></a>\n",
    "\n",
    "* [Project description](#Project_description)\n",
    "<p> </p> \n",
    "* [Step 1. Loading libraries and dataset](#Part_1)\n",
    "    * [Dataset of Calls](#Calls)\n",
    "    * [Dataset of SMS](#SMS)\n",
    "    * [Dataset of GPRS](#GPRS)\n",
    "    * [Dataset of Service Plans](#SP)\n",
    "    * [Dataset of Users](#Users)\n",
    "    * [Conclusion](#Conclusion_Part_1)\n",
    "<p> </p> \n",
    "* [Step 2. Data Preparation](#Part_2)\n",
    "    * [Conclusion](#Conclusion_Part_2)\n",
    "<p> </p> \n",
    "* [Step 3. Exploratory data analysis](#Part_3)\n",
    "    * [What is the distribution of average monthly income by service plans?](#Q1)\n",
    "    * [How customers of different service plans use mobile network services.](#Q2)\n",
    "    * [Conclusion](#Conclusion_Part_3)\n",
    "<p> </p>     \n",
    "* [Step 4. Test the hypotheses](#Part_4)\n",
    "<p> </p>     \n",
    "* [General Conclusion](#General_Conclusion)"
   ]
  },
  {
   "cell_type": "markdown",
   "metadata": {},
   "source": [
    "## Project description <a class=\"anchor\" id=\"Project_description\"></a>\n",
    "\n",
    "You work as an analyst for the telecom operator Megaline. \n",
    "The telecom company Megaline offers its clients two prepaid plans, Surf and Ultimate. The commercial department wants to know which of the plans is more profitable in order to adjust the advertising budget.<br>\n",
    "\n",
    "**Description of the plans**\n",
    "\n",
    "`Surf`<br>\n",
    "- Monthly charge: 20usd\n",
    "- 500 monthly minutes, 50 texts, and 15 GB of data\n",
    "- After exceeding the package limits: <br>\n",
    "1. 1 minute: 3 cents (Megaline always rounds up the minute and megabyte values. If the call lasted just one second, it will be counted as one minute, and if one megabyte of data was used, it will be counted as one gigabyte) \n",
    "2. 1 text message: 3 cents \n",
    "3. 1 GB of data: 10usd\n",
    "\n",
    "`Ultimate`<br>\n",
    "- Monthly charge: 70usd\n",
    "- 3000 monthly minutes, 1000 text messages, and 30 GB of data\n",
    "- After exceeding the package limits:<br> \n",
    "1. 1 minute: 1 cent <br>\n",
    "2. 1 text message: 1 cent<br> \n",
    "3. 1 GB of data: 7usd"
   ]
  },
  {
   "cell_type": "markdown",
   "metadata": {},
   "source": [
    "## Part 1. Loading libraries and dataset <a class=\"anchor\" id=\"Part_1\"></a>\n",
    "[Go back to the Contents](#contents)\n",
    "\n",
    "Let's load the libraries required for data manipulation and analysis."
   ]
  },
  {
   "cell_type": "code",
   "execution_count": 1,
   "metadata": {},
   "outputs": [],
   "source": [
    "#import packages for data manipulations\n",
    "import pandas as pd\n",
    "import numpy as np\n",
    "\n",
    "#library of datetime functions\n",
    "from datetime import datetime, timedelta\n",
    "#library of statistical functions\n",
    "from scipy import stats as st\n",
    "from scipy.interpolate import interp1d\n",
    "\n",
    "#import packages for data plotting\n",
    "import matplotlib.pyplot as plt\n",
    "import seaborn as sns"
   ]
  },
  {
   "cell_type": "markdown",
   "metadata": {},
   "source": [
    "Our first step will be to load the source files, analyze their structure and understanding of data."
   ]
  },
  {
   "cell_type": "code",
   "execution_count": 2,
   "metadata": {},
   "outputs": [],
   "source": [
    "#source of the data:\n",
    "#calls\n",
    "df_calls = pd.read_csv(\"megaline_calls.csv\", parse_dates=['call_date'])\n",
    "#SMS\n",
    "df_messages = pd.read_csv(\"megaline_messages.csv\")\n",
    "#GPRS\n",
    "df_internet = pd.read_csv(\"megaline_internet.csv\")\n",
    "#service plans\n",
    "df_plans = pd.read_csv(\"megaline_plans.csv\")\n",
    "#subscribers\n",
    "df_users = pd.read_csv(\"megaline_users1.csv\")"
   ]
  },
  {
   "cell_type": "markdown",
   "metadata": {},
   "source": [
    "**Dataset of Calls** <a class=\"anchor\" id=\"Calls\"></a>"
   ]
  },
  {
   "cell_type": "code",
   "execution_count": 3,
   "metadata": {},
   "outputs": [
    {
     "name": "stdout",
     "output_type": "stream",
     "text": [
      "<class 'pandas.core.frame.DataFrame'>\n",
      "RangeIndex: 137735 entries, 0 to 137734\n",
      "Data columns (total 4 columns):\n",
      " #   Column     Non-Null Count   Dtype         \n",
      "---  ------     --------------   -----         \n",
      " 0   id         137735 non-null  object        \n",
      " 1   user_id    137735 non-null  int64         \n",
      " 2   call_date  137735 non-null  datetime64[ns]\n",
      " 3   duration   137735 non-null  float64       \n",
      "dtypes: datetime64[ns](1), float64(1), int64(1), object(1)\n",
      "memory usage: 4.2+ MB\n"
     ]
    }
   ],
   "source": [
    "#structure of the dataset\n",
    "df_calls.info()"
   ]
  },
  {
   "cell_type": "code",
   "execution_count": 4,
   "metadata": {},
   "outputs": [
    {
     "data": {
      "text/html": [
       "<div>\n",
       "<style scoped>\n",
       "    .dataframe tbody tr th:only-of-type {\n",
       "        vertical-align: middle;\n",
       "    }\n",
       "\n",
       "    .dataframe tbody tr th {\n",
       "        vertical-align: top;\n",
       "    }\n",
       "\n",
       "    .dataframe thead th {\n",
       "        text-align: right;\n",
       "    }\n",
       "</style>\n",
       "<table border=\"1\" class=\"dataframe\">\n",
       "  <thead>\n",
       "    <tr style=\"text-align: right;\">\n",
       "      <th></th>\n",
       "      <th>id</th>\n",
       "      <th>user_id</th>\n",
       "      <th>call_date</th>\n",
       "      <th>duration</th>\n",
       "    </tr>\n",
       "  </thead>\n",
       "  <tbody>\n",
       "    <tr>\n",
       "      <th>0</th>\n",
       "      <td>1000_93</td>\n",
       "      <td>1000</td>\n",
       "      <td>2018-12-27</td>\n",
       "      <td>8.52</td>\n",
       "    </tr>\n",
       "    <tr>\n",
       "      <th>1</th>\n",
       "      <td>1000_145</td>\n",
       "      <td>1000</td>\n",
       "      <td>2018-12-27</td>\n",
       "      <td>13.66</td>\n",
       "    </tr>\n",
       "    <tr>\n",
       "      <th>2</th>\n",
       "      <td>1000_247</td>\n",
       "      <td>1000</td>\n",
       "      <td>2018-12-27</td>\n",
       "      <td>14.48</td>\n",
       "    </tr>\n",
       "    <tr>\n",
       "      <th>3</th>\n",
       "      <td>1000_309</td>\n",
       "      <td>1000</td>\n",
       "      <td>2018-12-28</td>\n",
       "      <td>5.76</td>\n",
       "    </tr>\n",
       "    <tr>\n",
       "      <th>4</th>\n",
       "      <td>1000_380</td>\n",
       "      <td>1000</td>\n",
       "      <td>2018-12-30</td>\n",
       "      <td>4.22</td>\n",
       "    </tr>\n",
       "  </tbody>\n",
       "</table>\n",
       "</div>"
      ],
      "text/plain": [
       "         id  user_id  call_date  duration\n",
       "0   1000_93     1000 2018-12-27      8.52\n",
       "1  1000_145     1000 2018-12-27     13.66\n",
       "2  1000_247     1000 2018-12-27     14.48\n",
       "3  1000_309     1000 2018-12-28      5.76\n",
       "4  1000_380     1000 2018-12-30      4.22"
      ]
     },
     "execution_count": 4,
     "metadata": {},
     "output_type": "execute_result"
    }
   ],
   "source": [
    "#the first five rows of dataset\n",
    "df_calls.head()"
   ]
  },
  {
   "cell_type": "markdown",
   "metadata": {},
   "source": [
    "The calls table (data on calls) structure is:\n",
    "- **id** — unique call identifier\n",
    "- **user_id** — the identifier of the user making the call\n",
    "- **call_date** — call date\n",
    "- **duration** — call duration (in minutes)"
   ]
  },
  {
   "cell_type": "markdown",
   "metadata": {},
   "source": [
    "**Dataset of SMS** <a class=\"anchor\" id=\"SMS\"></a>"
   ]
  },
  {
   "cell_type": "code",
   "execution_count": 5,
   "metadata": {},
   "outputs": [
    {
     "name": "stdout",
     "output_type": "stream",
     "text": [
      "<class 'pandas.core.frame.DataFrame'>\n",
      "RangeIndex: 76051 entries, 0 to 76050\n",
      "Data columns (total 3 columns):\n",
      " #   Column        Non-Null Count  Dtype \n",
      "---  ------        --------------  ----- \n",
      " 0   id            76051 non-null  object\n",
      " 1   user_id       76051 non-null  int64 \n",
      " 2   message_date  76051 non-null  object\n",
      "dtypes: int64(1), object(2)\n",
      "memory usage: 1.7+ MB\n"
     ]
    }
   ],
   "source": [
    "#structure of the dataset\n",
    "df_messages.info()"
   ]
  },
  {
   "cell_type": "code",
   "execution_count": 6,
   "metadata": {},
   "outputs": [
    {
     "data": {
      "text/html": [
       "<div>\n",
       "<style scoped>\n",
       "    .dataframe tbody tr th:only-of-type {\n",
       "        vertical-align: middle;\n",
       "    }\n",
       "\n",
       "    .dataframe tbody tr th {\n",
       "        vertical-align: top;\n",
       "    }\n",
       "\n",
       "    .dataframe thead th {\n",
       "        text-align: right;\n",
       "    }\n",
       "</style>\n",
       "<table border=\"1\" class=\"dataframe\">\n",
       "  <thead>\n",
       "    <tr style=\"text-align: right;\">\n",
       "      <th></th>\n",
       "      <th>id</th>\n",
       "      <th>user_id</th>\n",
       "      <th>message_date</th>\n",
       "    </tr>\n",
       "  </thead>\n",
       "  <tbody>\n",
       "    <tr>\n",
       "      <th>0</th>\n",
       "      <td>1000_125</td>\n",
       "      <td>1000</td>\n",
       "      <td>2018-12-27</td>\n",
       "    </tr>\n",
       "    <tr>\n",
       "      <th>1</th>\n",
       "      <td>1000_160</td>\n",
       "      <td>1000</td>\n",
       "      <td>2018-12-31</td>\n",
       "    </tr>\n",
       "    <tr>\n",
       "      <th>2</th>\n",
       "      <td>1000_223</td>\n",
       "      <td>1000</td>\n",
       "      <td>2018-12-31</td>\n",
       "    </tr>\n",
       "    <tr>\n",
       "      <th>3</th>\n",
       "      <td>1000_251</td>\n",
       "      <td>1000</td>\n",
       "      <td>2018-12-27</td>\n",
       "    </tr>\n",
       "    <tr>\n",
       "      <th>4</th>\n",
       "      <td>1000_255</td>\n",
       "      <td>1000</td>\n",
       "      <td>2018-12-26</td>\n",
       "    </tr>\n",
       "  </tbody>\n",
       "</table>\n",
       "</div>"
      ],
      "text/plain": [
       "         id  user_id message_date\n",
       "0  1000_125     1000   2018-12-27\n",
       "1  1000_160     1000   2018-12-31\n",
       "2  1000_223     1000   2018-12-31\n",
       "3  1000_251     1000   2018-12-27\n",
       "4  1000_255     1000   2018-12-26"
      ]
     },
     "execution_count": 6,
     "metadata": {},
     "output_type": "execute_result"
    }
   ],
   "source": [
    "#the first five rows of dataset\n",
    "df_messages.head()"
   ]
  },
  {
   "cell_type": "markdown",
   "metadata": {},
   "source": [
    "The messages table (data on texts) structure is:\n",
    "- **id** — unique text message identifier\n",
    "- **message_date** — text message date\n",
    "- **user_id** — the identifier of the user sending the text"
   ]
  },
  {
   "cell_type": "markdown",
   "metadata": {},
   "source": [
    "**Dataset of GPRG** <a class=\"anchor\" id=\"GPRS\"></a>"
   ]
  },
  {
   "cell_type": "code",
   "execution_count": 7,
   "metadata": {},
   "outputs": [
    {
     "name": "stdout",
     "output_type": "stream",
     "text": [
      "<class 'pandas.core.frame.DataFrame'>\n",
      "RangeIndex: 104825 entries, 0 to 104824\n",
      "Data columns (total 4 columns):\n",
      " #   Column        Non-Null Count   Dtype  \n",
      "---  ------        --------------   -----  \n",
      " 0   id            104825 non-null  object \n",
      " 1   user_id       104825 non-null  int64  \n",
      " 2   session_date  104825 non-null  object \n",
      " 3   mb_used       104825 non-null  float64\n",
      "dtypes: float64(1), int64(1), object(2)\n",
      "memory usage: 3.2+ MB\n"
     ]
    }
   ],
   "source": [
    "#structure of the dataset\n",
    "df_internet.info()"
   ]
  },
  {
   "cell_type": "code",
   "execution_count": 8,
   "metadata": {},
   "outputs": [
    {
     "data": {
      "text/html": [
       "<div>\n",
       "<style scoped>\n",
       "    .dataframe tbody tr th:only-of-type {\n",
       "        vertical-align: middle;\n",
       "    }\n",
       "\n",
       "    .dataframe tbody tr th {\n",
       "        vertical-align: top;\n",
       "    }\n",
       "\n",
       "    .dataframe thead th {\n",
       "        text-align: right;\n",
       "    }\n",
       "</style>\n",
       "<table border=\"1\" class=\"dataframe\">\n",
       "  <thead>\n",
       "    <tr style=\"text-align: right;\">\n",
       "      <th></th>\n",
       "      <th>id</th>\n",
       "      <th>user_id</th>\n",
       "      <th>session_date</th>\n",
       "      <th>mb_used</th>\n",
       "    </tr>\n",
       "  </thead>\n",
       "  <tbody>\n",
       "    <tr>\n",
       "      <th>0</th>\n",
       "      <td>1000_13</td>\n",
       "      <td>1000</td>\n",
       "      <td>2018-12-29</td>\n",
       "      <td>89.86</td>\n",
       "    </tr>\n",
       "    <tr>\n",
       "      <th>1</th>\n",
       "      <td>1000_204</td>\n",
       "      <td>1000</td>\n",
       "      <td>2018-12-31</td>\n",
       "      <td>0.00</td>\n",
       "    </tr>\n",
       "    <tr>\n",
       "      <th>2</th>\n",
       "      <td>1000_379</td>\n",
       "      <td>1000</td>\n",
       "      <td>2018-12-28</td>\n",
       "      <td>660.40</td>\n",
       "    </tr>\n",
       "    <tr>\n",
       "      <th>3</th>\n",
       "      <td>1000_413</td>\n",
       "      <td>1000</td>\n",
       "      <td>2018-12-26</td>\n",
       "      <td>270.99</td>\n",
       "    </tr>\n",
       "    <tr>\n",
       "      <th>4</th>\n",
       "      <td>1000_442</td>\n",
       "      <td>1000</td>\n",
       "      <td>2018-12-27</td>\n",
       "      <td>880.22</td>\n",
       "    </tr>\n",
       "  </tbody>\n",
       "</table>\n",
       "</div>"
      ],
      "text/plain": [
       "         id  user_id session_date  mb_used\n",
       "0   1000_13     1000   2018-12-29    89.86\n",
       "1  1000_204     1000   2018-12-31     0.00\n",
       "2  1000_379     1000   2018-12-28   660.40\n",
       "3  1000_413     1000   2018-12-26   270.99\n",
       "4  1000_442     1000   2018-12-27   880.22"
      ]
     },
     "execution_count": 8,
     "metadata": {},
     "output_type": "execute_result"
    }
   ],
   "source": [
    "#the first five rows of dataset\n",
    "df_internet.head()"
   ]
  },
  {
   "cell_type": "markdown",
   "metadata": {},
   "source": [
    "The internet table (data on web sessions) structure is:\n",
    "- **id** — unique session identifier\n",
    "- **mb_used** — the volume of data spent during the session (in megabytes)\n",
    "- **session_date** — web session date\n",
    "- **user_id** — user identifier"
   ]
  },
  {
   "cell_type": "markdown",
   "metadata": {},
   "source": [
    "**Dataset of Service Plans** <a class=\"anchor\" id=\"SP\"></a>"
   ]
  },
  {
   "cell_type": "code",
   "execution_count": 9,
   "metadata": {},
   "outputs": [
    {
     "name": "stdout",
     "output_type": "stream",
     "text": [
      "<class 'pandas.core.frame.DataFrame'>\n",
      "RangeIndex: 2 entries, 0 to 1\n",
      "Data columns (total 8 columns):\n",
      " #   Column                 Non-Null Count  Dtype  \n",
      "---  ------                 --------------  -----  \n",
      " 0   messages_included      2 non-null      int64  \n",
      " 1   mb_per_month_included  2 non-null      int64  \n",
      " 2   minutes_included       2 non-null      int64  \n",
      " 3   usd_monthly_pay        2 non-null      int64  \n",
      " 4   usd_per_gb             2 non-null      int64  \n",
      " 5   usd_per_message        2 non-null      float64\n",
      " 6   usd_per_minute         2 non-null      float64\n",
      " 7   plan_name              2 non-null      object \n",
      "dtypes: float64(2), int64(5), object(1)\n",
      "memory usage: 256.0+ bytes\n"
     ]
    }
   ],
   "source": [
    "#structure of the dataset\n",
    "df_plans.info()"
   ]
  },
  {
   "cell_type": "code",
   "execution_count": 10,
   "metadata": {},
   "outputs": [
    {
     "data": {
      "text/html": [
       "<div>\n",
       "<style scoped>\n",
       "    .dataframe tbody tr th:only-of-type {\n",
       "        vertical-align: middle;\n",
       "    }\n",
       "\n",
       "    .dataframe tbody tr th {\n",
       "        vertical-align: top;\n",
       "    }\n",
       "\n",
       "    .dataframe thead th {\n",
       "        text-align: right;\n",
       "    }\n",
       "</style>\n",
       "<table border=\"1\" class=\"dataframe\">\n",
       "  <thead>\n",
       "    <tr style=\"text-align: right;\">\n",
       "      <th></th>\n",
       "      <th>messages_included</th>\n",
       "      <th>mb_per_month_included</th>\n",
       "      <th>minutes_included</th>\n",
       "      <th>usd_monthly_pay</th>\n",
       "      <th>usd_per_gb</th>\n",
       "      <th>usd_per_message</th>\n",
       "      <th>usd_per_minute</th>\n",
       "      <th>plan_name</th>\n",
       "    </tr>\n",
       "  </thead>\n",
       "  <tbody>\n",
       "    <tr>\n",
       "      <th>0</th>\n",
       "      <td>50</td>\n",
       "      <td>15360</td>\n",
       "      <td>500</td>\n",
       "      <td>20</td>\n",
       "      <td>10</td>\n",
       "      <td>0.03</td>\n",
       "      <td>0.03</td>\n",
       "      <td>surf</td>\n",
       "    </tr>\n",
       "    <tr>\n",
       "      <th>1</th>\n",
       "      <td>1000</td>\n",
       "      <td>30720</td>\n",
       "      <td>3000</td>\n",
       "      <td>70</td>\n",
       "      <td>7</td>\n",
       "      <td>0.01</td>\n",
       "      <td>0.01</td>\n",
       "      <td>ultimate</td>\n",
       "    </tr>\n",
       "  </tbody>\n",
       "</table>\n",
       "</div>"
      ],
      "text/plain": [
       "   messages_included  mb_per_month_included  minutes_included  \\\n",
       "0                 50                  15360               500   \n",
       "1               1000                  30720              3000   \n",
       "\n",
       "   usd_monthly_pay  usd_per_gb  usd_per_message  usd_per_minute plan_name  \n",
       "0               20          10             0.03            0.03      surf  \n",
       "1               70           7             0.01            0.01  ultimate  "
      ]
     },
     "execution_count": 10,
     "metadata": {},
     "output_type": "execute_result"
    }
   ],
   "source": [
    "#the first five rows of dataset\n",
    "df_plans.head()"
   ]
  },
  {
   "cell_type": "markdown",
   "metadata": {},
   "source": [
    "The plans table (data on the plans) structure is:\n",
    "\n",
    "- **plan_name** — calling plan name\n",
    "- **usd_monthly_fee** — monthly charge in US dollars\n",
    "- **minutes_included** — monthly minute allowance\n",
    "- **messages_included** — monthly text allowance\n",
    "- **mb_per_month_included** — data volume allowance (in megabytes)\n",
    "- **usd_per_minute** — price per minute after exceeding the package limits (e.g., if the package includes 100 minutes, the 101st minute will be charged)\n",
    "- **usd_per_message** — price per text after exceeding the package limits\n",
    "- **usd_per_gb** — price per extra gigabyte of data after exceeding the package limits (1 GB = 1024 megabytes)"
   ]
  },
  {
   "cell_type": "markdown",
   "metadata": {},
   "source": [
    "**Dataset of Users** <a class=\"anchor\" id=\"Users\"></a>"
   ]
  },
  {
   "cell_type": "code",
   "execution_count": 11,
   "metadata": {},
   "outputs": [
    {
     "name": "stdout",
     "output_type": "stream",
     "text": [
      "<class 'pandas.core.frame.DataFrame'>\n",
      "RangeIndex: 500 entries, 0 to 499\n",
      "Data columns (total 8 columns):\n",
      " #   Column      Non-Null Count  Dtype \n",
      "---  ------      --------------  ----- \n",
      " 0   user_id     500 non-null    int64 \n",
      " 1   first_name  500 non-null    object\n",
      " 2   last_name   500 non-null    object\n",
      " 3   age         500 non-null    int64 \n",
      " 4   city        500 non-null    object\n",
      " 5   reg_date    500 non-null    object\n",
      " 6   plan        500 non-null    object\n",
      " 7   churn_date  34 non-null     object\n",
      "dtypes: int64(2), object(6)\n",
      "memory usage: 31.4+ KB\n"
     ]
    }
   ],
   "source": [
    "#structure of the dataset\n",
    "df_users.info()"
   ]
  },
  {
   "cell_type": "code",
   "execution_count": 12,
   "metadata": {},
   "outputs": [
    {
     "data": {
      "text/html": [
       "<div>\n",
       "<style scoped>\n",
       "    .dataframe tbody tr th:only-of-type {\n",
       "        vertical-align: middle;\n",
       "    }\n",
       "\n",
       "    .dataframe tbody tr th {\n",
       "        vertical-align: top;\n",
       "    }\n",
       "\n",
       "    .dataframe thead th {\n",
       "        text-align: right;\n",
       "    }\n",
       "</style>\n",
       "<table border=\"1\" class=\"dataframe\">\n",
       "  <thead>\n",
       "    <tr style=\"text-align: right;\">\n",
       "      <th></th>\n",
       "      <th>user_id</th>\n",
       "      <th>first_name</th>\n",
       "      <th>last_name</th>\n",
       "      <th>age</th>\n",
       "      <th>city</th>\n",
       "      <th>reg_date</th>\n",
       "      <th>plan</th>\n",
       "      <th>churn_date</th>\n",
       "    </tr>\n",
       "  </thead>\n",
       "  <tbody>\n",
       "    <tr>\n",
       "      <th>0</th>\n",
       "      <td>1000</td>\n",
       "      <td>Anamaria</td>\n",
       "      <td>Bauer</td>\n",
       "      <td>45</td>\n",
       "      <td>Atlanta-Sandy Springs-Roswell, GA MSA</td>\n",
       "      <td>2018-12-24</td>\n",
       "      <td>ultimate</td>\n",
       "      <td>NaN</td>\n",
       "    </tr>\n",
       "    <tr>\n",
       "      <th>1</th>\n",
       "      <td>1001</td>\n",
       "      <td>Mickey</td>\n",
       "      <td>Wilkerson</td>\n",
       "      <td>28</td>\n",
       "      <td>Seattle-Tacoma-Bellevue, WA MSA</td>\n",
       "      <td>2018-08-13</td>\n",
       "      <td>surf</td>\n",
       "      <td>NaN</td>\n",
       "    </tr>\n",
       "    <tr>\n",
       "      <th>2</th>\n",
       "      <td>1002</td>\n",
       "      <td>Carlee</td>\n",
       "      <td>Hoffman</td>\n",
       "      <td>36</td>\n",
       "      <td>Las Vegas-Henderson-Paradise, NV MSA</td>\n",
       "      <td>2018-10-21</td>\n",
       "      <td>surf</td>\n",
       "      <td>NaN</td>\n",
       "    </tr>\n",
       "    <tr>\n",
       "      <th>3</th>\n",
       "      <td>1003</td>\n",
       "      <td>Reynaldo</td>\n",
       "      <td>Jenkins</td>\n",
       "      <td>52</td>\n",
       "      <td>Tulsa, OK MSA</td>\n",
       "      <td>2018-01-28</td>\n",
       "      <td>surf</td>\n",
       "      <td>NaN</td>\n",
       "    </tr>\n",
       "    <tr>\n",
       "      <th>4</th>\n",
       "      <td>1004</td>\n",
       "      <td>Leonila</td>\n",
       "      <td>Thompson</td>\n",
       "      <td>40</td>\n",
       "      <td>Seattle-Tacoma-Bellevue, WA MSA</td>\n",
       "      <td>2018-05-23</td>\n",
       "      <td>surf</td>\n",
       "      <td>NaN</td>\n",
       "    </tr>\n",
       "  </tbody>\n",
       "</table>\n",
       "</div>"
      ],
      "text/plain": [
       "   user_id first_name  last_name  age                                   city  \\\n",
       "0     1000   Anamaria      Bauer   45  Atlanta-Sandy Springs-Roswell, GA MSA   \n",
       "1     1001     Mickey  Wilkerson   28        Seattle-Tacoma-Bellevue, WA MSA   \n",
       "2     1002     Carlee    Hoffman   36   Las Vegas-Henderson-Paradise, NV MSA   \n",
       "3     1003   Reynaldo    Jenkins   52                          Tulsa, OK MSA   \n",
       "4     1004    Leonila   Thompson   40        Seattle-Tacoma-Bellevue, WA MSA   \n",
       "\n",
       "     reg_date      plan churn_date  \n",
       "0  2018-12-24  ultimate        NaN  \n",
       "1  2018-08-13      surf        NaN  \n",
       "2  2018-10-21      surf        NaN  \n",
       "3  2018-01-28      surf        NaN  \n",
       "4  2018-05-23      surf        NaN  "
      ]
     },
     "execution_count": 12,
     "metadata": {},
     "output_type": "execute_result"
    }
   ],
   "source": [
    "#the first five rows of dataset\n",
    "df_users.head()"
   ]
  },
  {
   "cell_type": "markdown",
   "metadata": {},
   "source": [
    "The users table (data on users) structure is:\n",
    "- **user_id** — unique user identifier\n",
    "- **first_name** — user's name\n",
    "- **last_name** — user's last name\n",
    "- **age** — user's age (years)\n",
    "- **city** — user's city of residence\n",
    "- **reg_date** — subscription date (yyyy-mm-dd)\n",
    "- **plan** — calling plan name\n",
    "- **churn_date** — the date the user stopped using the service (if the value is missing, the calling plan was being used when this data was retrieved)"
   ]
  },
  {
   "cell_type": "markdown",
   "metadata": {},
   "source": [
    "### Conclusion <a class=\"anchor\" id=\"Conclusion_Part_1\"></a>\n",
    "\n",
    "For analysis, we have been provided with data from the telecom company Megaline. We have five data files. They contain information about customers, their calls, SMS, Internet connections and one file is a description of prices and terms of service (prepaid mobile plans).<br>\n",
    "The sample of clients is small, there are only 500 records. The billing data in the files is for 2018.\n",
    "\n",
    "All dataset values are defined except for the \"churn_date\" in the df_users dataset.<br>\n",
    "All date fields represented as objects and only consist days without time. It used date format as \"yyyy-mm-dd\".\n",
    "\n",
    "We got a view of data, estimated the amount of data, considered data types, now let's go deeper."
   ]
  },
  {
   "cell_type": "markdown",
   "metadata": {},
   "source": [
    "## Step 2. Data Preparation <a class=\"anchor\" id=\"Part_2\"></a>\n",
    "[Go back to the Contents](#contents)\n",
    "\n",
    "At this step we will convert data to the required types, find and eliminate errors."
   ]
  },
  {
   "cell_type": "code",
   "execution_count": 13,
   "metadata": {},
   "outputs": [
    {
     "data": {
      "text/plain": [
       "count    137735.000000\n",
       "mean          6.745927\n",
       "std           5.839241\n",
       "min           0.000000\n",
       "25%           1.290000\n",
       "50%           5.980000\n",
       "75%          10.690000\n",
       "max          37.600000\n",
       "Name: duration, dtype: float64"
      ]
     },
     "execution_count": 13,
     "metadata": {},
     "output_type": "execute_result"
    }
   ],
   "source": [
    "#general statistic\n",
    "df_calls['duration'].describe()"
   ]
  },
  {
   "cell_type": "markdown",
   "metadata": {},
   "source": [
    "We see some records with zero duration. Let's check them."
   ]
  },
  {
   "cell_type": "code",
   "execution_count": 14,
   "metadata": {},
   "outputs": [
    {
     "data": {
      "image/png": "[encoded data removed]",
      "text/plain": [
       "<Figure size 432x288 with 1 Axes>"
      ]
     },
     "metadata": {
      "needs_background": "light"
     },
     "output_type": "display_data"
    }
   ],
   "source": [
    "#Call Duration density plot\n",
    "sns.kdeplot(df_calls['duration'], shade=True).set_title('Call duration density plot');"
   ]
  },
  {
   "cell_type": "code",
   "execution_count": 15,
   "metadata": {},
   "outputs": [
    {
     "name": "stdout",
     "output_type": "stream",
     "text": [
      "Number of calls with zero duration: 26834\n",
      "Percentage of calls with zero duration 19.5%\n"
     ]
    }
   ],
   "source": [
    "cnt= df_calls.query('duration==0')['duration'].count()\n",
    "\n",
    "print('Number of calls with zero duration:', cnt)\n",
    "print('Percentage of calls with zero duration {:.1%}'.format(cnt/ df_calls.shape[0]))"
   ]
  },
  {
   "cell_type": "markdown",
   "metadata": {},
   "source": [
    "The percentage of calls with a duration of 0 is quite high - about 20% of the total number of rows in the dataset.<br>\n",
    "Why can such records be there?\n",
    "\n",
    "Prepaid systems have a certain scheme of work.\n",
    "\n",
    "<a href=\"https://www.tutorialspoint.com/telecom-billing/quick-billing-guide.htm\">Pre-paid Scenario</a><br>\n",
    "- *When customer makes a call, prepaid switching gateway captures the calling number and sends the account information to the real time billing system.*\n",
    "\n",
    "- *Real time billing systems using the above information, authenticates the identity of the user, calculates the customer account's remaining balance using the rating tariff table and maximum allowable duration of the call, and sends this information to the prepaid gateway.*\n",
    "\n",
    "- *The gateway establishes the call.*\n",
    "\n",
    "- *During the call, gateway monitors the call so that the user do not exceed the maximum allowable call duration.*\n",
    "\n",
    "- *When the call is over, the gateway sends the actual call duration to the prepaid billing system, which then calculates the actual call cost and updates the account balance, decreasing the remaining balance.*\n",
    "\n",
    "Therefore, a lot depends on how the prepaid gateway is configured and how the billing platform is set up.\n",
    "So, calls with zero duration may be normal for a Megaline system.\n",
    "\n",
    "In addition to the configuration of the prepaid system, there is a possibility of abnormal call termination.\n",
    "In telecommunication systems, it is customary to indicate the following reasons of it:<br>\n",
    "*Callback, User Error, Lost Carrier, Idle Timeout, Session Timeout, Admin Reset, Port Error, NAS (network access server) Error, Service Unavailable.*<br>\n",
    "We see problems with equipments and mobile network here.\n",
    "\n",
    "In any case, the presence of such records is the reason for additional research for Megaline.\n",
    "\n",
    "For our current task, call records are essential. In order not to lose 20% of the dataset, let's try to replace the zero duration in records and see how this affects the dataset. We use the statistical average method to determine the new values. We will choose the average value twice:\n",
    "- on the first pass, we will select values by grouping users by date\n",
    "- in the second pass, we take the total average value for the user"
   ]
  },
  {
   "cell_type": "code",
   "execution_count": 16,
   "metadata": {},
   "outputs": [],
   "source": [
    "def fill_zero_duration(row, step):\n",
    "    #the function returns the mean for the user\n",
    "    try:\n",
    "        if step==1: \n",
    "            #step one takes into account the date\n",
    "            x= df_mean_durat.loc[((df_mean_durat['user_id']==row['user_id'])&\n",
    "                                  (df_mean_durat['call_date']==row['call_date'])),'duration'].values[0]\n",
    "        else: \n",
    "            #the total average value for the user\n",
    "            x= df_mean_durat.loc[(df_mean_durat['user_id']==row['user_id']),'duration'].values[0]\n",
    "    except:\n",
    "        x= 0 #the mean value doesn't found\n",
    "    return x"
   ]
  },
  {
   "cell_type": "code",
   "execution_count": 17,
   "metadata": {},
   "outputs": [],
   "source": [
    "def update_calls_duration(stage):\n",
    "    #the function performs the stage of update call duration\n",
    "    \n",
    "    #records with zero call duration\n",
    "    df_zero_durat= df_calls[df_calls['duration']==0][['user_id','call_date','duration']]\n",
    "    #fill zero values\n",
    "    df_zero_durat['duration']= df_zero_durat.apply(fill_zero_duration, step=stage, axis=1)\n",
    "    #update the main dataset \n",
    "    df_calls.update(df_zero_durat[df_zero_durat['duration']>0])\n",
    "    return\n",
    "\n",
    "#update by date\n",
    "df_mean_durat = df_calls.groupby(['user_id','call_date']).agg({'duration':'mean'}).reset_index()\n",
    "update_calls_duration(stage=1)\n",
    "#update by user\n",
    "df_mean_durat = df_calls.groupby(['user_id']).agg({'duration':'mean'}).reset_index()\n",
    "update_calls_duration(stage=2)"
   ]
  },
  {
   "cell_type": "code",
   "execution_count": 18,
   "metadata": {},
   "outputs": [
    {
     "data": {
      "text/plain": [
       "0"
      ]
     },
     "execution_count": 18,
     "metadata": {},
     "output_type": "execute_result"
    }
   ],
   "source": [
    "#checking result\n",
    "df_calls[df_calls['duration']==0]['duration'].count()"
   ]
  },
  {
   "cell_type": "markdown",
   "metadata": {},
   "source": [
    "Let's look at the dataset after transformation."
   ]
  },
  {
   "cell_type": "code",
   "execution_count": 19,
   "metadata": {
    "scrolled": true
   },
   "outputs": [
    {
     "data": {
      "image/png": "[encoded data removed]",
      "text/plain": [
       "<Figure size 432x288 with 1 Axes>"
      ]
     },
     "metadata": {
      "needs_background": "light"
     },
     "output_type": "display_data"
    }
   ],
   "source": [
    "#density plot\n",
    "sns.kdeplot(df_calls['duration'], shade=True).set_title('Call duration density plot (fixed)');"
   ]
  },
  {
   "cell_type": "markdown",
   "metadata": {},
   "source": [
    "As we can see, the chosen strategy has nicely improved the data distribution.\n",
    "\n",
    "Now let's look at the rest of datasets."
   ]
  },
  {
   "cell_type": "code",
   "execution_count": 20,
   "metadata": {},
   "outputs": [],
   "source": [
    "#convert object to date type\n",
    "df_messages['message_date'] = df_messages['message_date'].apply(lambda _: datetime.strptime(_,\"%Y-%m-%d\"))"
   ]
  },
  {
   "cell_type": "code",
   "execution_count": 21,
   "metadata": {},
   "outputs": [],
   "source": [
    "#convert object to date type\n",
    "df_internet['session_date'] = df_internet['session_date'].apply(lambda _: datetime.strptime(_,\"%Y-%m-%d\"))"
   ]
  },
  {
   "cell_type": "code",
   "execution_count": 22,
   "metadata": {},
   "outputs": [
    {
     "data": {
      "text/plain": [
       "count    104825.000000\n",
       "mean        366.713701\n",
       "std         277.170542\n",
       "min           0.000000\n",
       "25%         136.080000\n",
       "50%         343.980000\n",
       "75%         554.610000\n",
       "max        1693.470000\n",
       "Name: mb_used, dtype: float64"
      ]
     },
     "execution_count": 22,
     "metadata": {},
     "output_type": "execute_result"
    }
   ],
   "source": [
    "#general statistic\n",
    "df_internet['mb_used'].describe()"
   ]
  },
  {
   "cell_type": "markdown",
   "metadata": {},
   "source": [
    "We see some records with zero traffic here. Let's check them too."
   ]
  },
  {
   "cell_type": "code",
   "execution_count": 23,
   "metadata": {},
   "outputs": [
    {
     "name": "stdout",
     "output_type": "stream",
     "text": [
      "Percentage of internet sessions with zero volume 13.1%\n"
     ]
    }
   ],
   "source": [
    "print('Percentage of internet sessions with zero volume {:.1%}'\n",
    "      .format(df_internet.query('mb_used==0')['mb_used'].count()/ df_internet.shape[0]))"
   ]
  },
  {
   "cell_type": "markdown",
   "metadata": {},
   "source": [
    "When a subscriber opens a mobile browser / checks mail, etc., he starts the GPRS Attach procedure - the process of authentication and authorization in the mobile network. Then the PDP Context Activation procedure takes place. A billing record for the subscriber's session is opened and the requested service starts to be provided.\n",
    "The network and the phone exchange data, including the exchange of small data packets with service information indicating that the client is using the Internet.<br>\n",
    "Thus, there is always PDP Context activated data traffic.\n",
    "\n",
    "Currently, the cost of Internet traffic for a mobile operator has significantly decreased and operators have raised the threshold for entering billed data. This threshold can be a configuration of prepaid gateway and a prepaid platform.\n",
    "\n",
    "In our task, we consider tariff plans where the price per gigabyte is indicated, and in the dataset - the amount of traffic in megabytes. We have 13% of dataset rows with zero traffic. Perhaps these are records with very low traffic volume. This could be a subject of discussion with Megaline, but for further analysis we'd better have these records  filled with more than zero values. The method of mean values showed good results with the Call Dataset, so we will use it here as well."
   ]
  },
  {
   "cell_type": "code",
   "execution_count": 24,
   "metadata": {},
   "outputs": [],
   "source": [
    "def fill_zero_volume(row, step):\n",
    "    #the function returns the average value of the Internet volume for the user\n",
    "    try:\n",
    "        if step==1:\n",
    "            #step one takes into account the date\n",
    "            x= df_mean_vol.loc[((df_mean_vol['user_id']==row['user_id'])&\n",
    "                                  (df_mean_vol['session_date']==row['session_date'])),'mb_used'].values[0]\n",
    "        else:\n",
    "            #the total average value for the user\n",
    "            x= df_mean_vol.loc[(df_mean_vol['user_id']==row['user_id']),'mb_used'].values[0]\n",
    "    except:\n",
    "        x= 0 #the mean value doesn't found\n",
    "    return x"
   ]
  },
  {
   "cell_type": "code",
   "execution_count": 25,
   "metadata": {},
   "outputs": [],
   "source": [
    "def update_internet_vol(stage):\n",
    "    #the function performs the stage of update Internet volume\n",
    "    \n",
    "    #records with zero Internet volume\n",
    "    df_zero_durat= df_internet[df_internet['mb_used']==0][['user_id','session_date','mb_used']]\n",
    "     #fill zero values\n",
    "    df_zero_durat['mb_used']= df_zero_durat.apply(fill_zero_volume, step=stage, axis=1)\n",
    "    #update the main dataset \n",
    "    df_internet.update(df_zero_durat[df_zero_durat['mb_used']>0])\n",
    "    return\n",
    "\n",
    "#update by date\n",
    "df_mean_vol = df_internet.groupby(['user_id','session_date']).agg({'mb_used':'mean'}).reset_index()\n",
    "update_internet_vol(stage=1)\n",
    "#update by user\n",
    "df_mean_vol = df_internet.groupby(['user_id']).agg({'mb_used':'mean'}).reset_index()\n",
    "update_internet_vol(stage=2)"
   ]
  },
  {
   "cell_type": "code",
   "execution_count": 26,
   "metadata": {},
   "outputs": [
    {
     "data": {
      "image/png": "[encoded data removed]",
      "text/plain": [
       "<Figure size 432x288 with 1 Axes>"
      ]
     },
     "metadata": {
      "needs_background": "light"
     },
     "output_type": "display_data"
    }
   ],
   "source": [
    "#Internet Traffic Volume density plot\n",
    "sns.kdeplot(df_internet['mb_used'], shade=True).set_title('Internet Traffic Volume density plot');"
   ]
  },
  {
   "cell_type": "markdown",
   "metadata": {},
   "source": [
    "The latest dataset is data about 500 clients."
   ]
  },
  {
   "cell_type": "code",
   "execution_count": 27,
   "metadata": {},
   "outputs": [],
   "source": [
    "#convert object to date type\n",
    "df_users['reg_date'] = df_users['reg_date'].apply(lambda _: datetime.strptime(_,\"%Y-%m-%d\"))"
   ]
  },
  {
   "cell_type": "code",
   "execution_count": 28,
   "metadata": {},
   "outputs": [
    {
     "data": {
      "text/plain": [
       "count                              500\n",
       "mean     2018-06-24 16:30:43.199999488\n",
       "min                2018-01-01 00:00:00\n",
       "25%                2018-03-25 18:00:00\n",
       "50%                2018-06-20 00:00:00\n",
       "75%                2018-09-20 06:00:00\n",
       "max                2018-12-31 00:00:00\n",
       "Name: reg_date, dtype: object"
      ]
     },
     "execution_count": 28,
     "metadata": {},
     "output_type": "execute_result"
    }
   ],
   "source": [
    "#check source data\n",
    "df_users['reg_date'].describe(datetime_is_numeric=True)"
   ]
  },
  {
   "cell_type": "markdown",
   "metadata": {},
   "source": [
    "The dataset contains data on clients for 2018."
   ]
  },
  {
   "cell_type": "code",
   "execution_count": 29,
   "metadata": {},
   "outputs": [
    {
     "data": {
      "text/plain": [
       "count             34\n",
       "unique            29\n",
       "top       2018-12-18\n",
       "freq               3\n",
       "Name: churn_date, dtype: object"
      ]
     },
     "execution_count": 29,
     "metadata": {},
     "output_type": "execute_result"
    }
   ],
   "source": [
    "#column with undefuned values\n",
    "df_users['churn_date'].describe()"
   ]
  },
  {
   "cell_type": "markdown",
   "metadata": {},
   "source": [
    "The meaning of 'churn_date' field implies undefined values, so we will leave it as it is."
   ]
  },
  {
   "cell_type": "markdown",
   "metadata": {},
   "source": [
    "### Conclusion <a class=\"anchor\" id=\"Conclusion_Part_2\"></a>\n",
    "\n",
    "At this step, we looked at the contents of datasets. The data provided by Megaline has no missing values. Some underfined values in the calls dataset and in the dataset with Internet traffic require additional research. These values can be errors or normal values for processes of Megaline hardware and software. For our study, the undefined values were filled by mean values."
   ]
  },
  {
   "cell_type": "markdown",
   "metadata": {},
   "source": [
    "## Step 3.  Exploratory data analysis <a class=\"anchor\" id=\"Part_3\"></a>\n",
    "[Go back to the Contents](#contents)\n",
    "\n",
    "In this step, we will group the data for each client, highlight their behavior patterns and find the profit.\n",
    "\n",
    "Important information for us:<br>\n",
    "Megaline always rounds up the minute and megabyte values. If the call lasted just one second, it will be counted as one minute, and if one megabyte of data was used, it will be counted as one gigabyte.\n",
    "\n",
    "The number of calls made and minutes used per month:"
   ]
  },
  {
   "cell_type": "code",
   "execution_count": 30,
   "metadata": {},
   "outputs": [],
   "source": [
    "#round minutes up\n",
    "df_calls['ceil_durat'] = np.ceil(df_calls['duration']).astype('int')\n",
    "\n",
    "#group users by month\n",
    "df_total_call = (\n",
    "    df_calls\n",
    "    .groupby([df_calls['user_id'], df_calls['call_date'].dt.month])\n",
    "    .agg({'ceil_durat': ['sum', 'count']})\n",
    ")\n",
    "#replace name of columns\n",
    "df_total_call.columns = ['total_duration','count_of_calls']"
   ]
  },
  {
   "cell_type": "markdown",
   "metadata": {},
   "source": [
    "The number of SMS sent per month:"
   ]
  },
  {
   "cell_type": "code",
   "execution_count": 31,
   "metadata": {},
   "outputs": [],
   "source": [
    "#group users by month\n",
    "df_total_msg = (\n",
    "    df_messages\n",
    "    .groupby([df_messages['user_id'], df_messages['message_date'].dt.month])\n",
    "    .agg({'id': ['count']})\n",
    ")\n",
    "#replace name of column\n",
    "df_total_msg.columns = ['sms_counts']"
   ]
  },
  {
   "cell_type": "markdown",
   "metadata": {},
   "source": [
    "The volume of data per month:"
   ]
  },
  {
   "cell_type": "code",
   "execution_count": 32,
   "metadata": {},
   "outputs": [],
   "source": [
    "#group users by month\n",
    "df_total_gprs = (\n",
    "    df_internet\n",
    "    .groupby([df_internet['user_id'], df_internet['session_date'].dt.month])\n",
    "    .agg({'mb_used': ['sum']})\n",
    ")\n",
    "#replace name of column\n",
    "df_total_gprs.columns = ['total_traffic_mb']"
   ]
  },
  {
   "cell_type": "markdown",
   "metadata": {},
   "source": [
    "Now we can combine the grouped information and calculate the monthly income from each client."
   ]
  },
  {
   "cell_type": "code",
   "execution_count": 33,
   "metadata": {},
   "outputs": [],
   "source": [
    "#join calls and SMS\n",
    "df_events = df_total_call.merge(df_total_msg, left_index=True, right_on=['user_id', 'message_date'], how='outer')\n",
    "\n",
    "#join Internet traffic\n",
    "df_events = df_events.merge(df_total_gprs, left_index=True, right_on=['user_id', 'session_date'], how='outer')"
   ]
  },
  {
   "cell_type": "markdown",
   "metadata": {},
   "source": [
    "Missing values occurred while merging data. This happens when the client has not used some types of services during the month."
   ]
  },
  {
   "cell_type": "code",
   "execution_count": 34,
   "metadata": {},
   "outputs": [],
   "source": [
    "#replace missing values with zero\n",
    "df_events.fillna(0, inplace=True)\n",
    "\n",
    "# reset the index for further joining\n",
    "df_events=df_events.reset_index()"
   ]
  },
  {
   "cell_type": "markdown",
   "metadata": {},
   "source": [
    "Get rid of outliers."
   ]
  },
  {
   "cell_type": "code",
   "execution_count": 35,
   "metadata": {},
   "outputs": [
    {
     "data": {
      "image/png": "[encoded data removed]",
      "text/plain": [
       "<Figure size 1008x432 with 4 Axes>"
      ]
     },
     "metadata": {
      "needs_background": "light"
     },
     "output_type": "display_data"
    }
   ],
   "source": [
    "#distribution histograms\n",
    "df_events[['total_duration','count_of_calls','sms_counts','total_traffic_mb']].hist(figsize=[14,6]);"
   ]
  },
  {
   "cell_type": "markdown",
   "metadata": {},
   "source": [
    "All histograms indicate a right-skewed data sets."
   ]
  },
  {
   "cell_type": "code",
   "execution_count": 36,
   "metadata": {},
   "outputs": [
    {
     "data": {
      "text/html": [
       "<div>\n",
       "<style scoped>\n",
       "    .dataframe tbody tr th:only-of-type {\n",
       "        vertical-align: middle;\n",
       "    }\n",
       "\n",
       "    .dataframe tbody tr th {\n",
       "        vertical-align: top;\n",
       "    }\n",
       "\n",
       "    .dataframe thead th {\n",
       "        text-align: right;\n",
       "    }\n",
       "</style>\n",
       "<table border=\"1\" class=\"dataframe\">\n",
       "  <thead>\n",
       "    <tr style=\"text-align: right;\">\n",
       "      <th></th>\n",
       "      <th>total_duration</th>\n",
       "      <th>count_of_calls</th>\n",
       "      <th>sms_counts</th>\n",
       "      <th>total_traffic_mb</th>\n",
       "    </tr>\n",
       "  </thead>\n",
       "  <tbody>\n",
       "    <tr>\n",
       "      <th>count</th>\n",
       "      <td>2293.000000</td>\n",
       "      <td>2293.000000</td>\n",
       "      <td>2293.000000</td>\n",
       "      <td>2293.000000</td>\n",
       "    </tr>\n",
       "    <tr>\n",
       "      <th>mean</th>\n",
       "      <td>498.245094</td>\n",
       "      <td>60.067597</td>\n",
       "      <td>33.166594</td>\n",
       "      <td>18325.090732</td>\n",
       "    </tr>\n",
       "    <tr>\n",
       "      <th>std</th>\n",
       "      <td>272.896832</td>\n",
       "      <td>32.402563</td>\n",
       "      <td>34.070085</td>\n",
       "      <td>8392.622755</td>\n",
       "    </tr>\n",
       "    <tr>\n",
       "      <th>min</th>\n",
       "      <td>0.000000</td>\n",
       "      <td>0.000000</td>\n",
       "      <td>0.000000</td>\n",
       "      <td>0.000000</td>\n",
       "    </tr>\n",
       "    <tr>\n",
       "      <th>25%</th>\n",
       "      <td>312.000000</td>\n",
       "      <td>38.000000</td>\n",
       "      <td>3.000000</td>\n",
       "      <td>13719.923333</td>\n",
       "    </tr>\n",
       "    <tr>\n",
       "      <th>50%</th>\n",
       "      <td>494.000000</td>\n",
       "      <td>60.000000</td>\n",
       "      <td>26.000000</td>\n",
       "      <td>18672.163847</td>\n",
       "    </tr>\n",
       "    <tr>\n",
       "      <th>75%</th>\n",
       "      <td>659.000000</td>\n",
       "      <td>79.000000</td>\n",
       "      <td>51.000000</td>\n",
       "      <td>22982.956667</td>\n",
       "    </tr>\n",
       "    <tr>\n",
       "      <th>max</th>\n",
       "      <td>1771.000000</td>\n",
       "      <td>205.000000</td>\n",
       "      <td>266.000000</td>\n",
       "      <td>74861.412357</td>\n",
       "    </tr>\n",
       "  </tbody>\n",
       "</table>\n",
       "</div>"
      ],
      "text/plain": [
       "       total_duration  count_of_calls   sms_counts  total_traffic_mb\n",
       "count     2293.000000     2293.000000  2293.000000       2293.000000\n",
       "mean       498.245094       60.067597    33.166594      18325.090732\n",
       "std        272.896832       32.402563    34.070085       8392.622755\n",
       "min          0.000000        0.000000     0.000000          0.000000\n",
       "25%        312.000000       38.000000     3.000000      13719.923333\n",
       "50%        494.000000       60.000000    26.000000      18672.163847\n",
       "75%        659.000000       79.000000    51.000000      22982.956667\n",
       "max       1771.000000      205.000000   266.000000      74861.412357"
      ]
     },
     "execution_count": 36,
     "metadata": {},
     "output_type": "execute_result"
    }
   ],
   "source": [
    "#basic statistical details \n",
    "df_events[['total_duration','count_of_calls','sms_counts','total_traffic_mb']].describe()"
   ]
  },
  {
   "cell_type": "markdown",
   "metadata": {},
   "source": [
    "We see zero values in statistic, but now they mean that the client has not used the service, and this is a normal situation that does not need to be fixed.<br>\n",
    "We'll use a whisker plot to define the boundaries of the dataset to approximate a normal distribution."
   ]
  },
  {
   "cell_type": "code",
   "execution_count": 37,
   "metadata": {
    "scrolled": true
   },
   "outputs": [
    {
     "data": {
      "image/png": "[encoded data removed]",
      "text/plain": [
       "<Figure size 432x288 with 2 Axes>"
      ]
     },
     "metadata": {
      "needs_background": "light"
     },
     "output_type": "display_data"
    }
   ],
   "source": [
    "#whisker plot with hidden outlier points\n",
    "plt.subplot(1,2,1)\n",
    "plt.title('total_duration')\n",
    "plt.boxplot(df_events.total_duration, vert=False, showfliers=False);\n",
    "\n",
    "plt.subplot(1,2,2)\n",
    "plt.title('count_of_calls')\n",
    "plt.boxplot(df_events.count_of_calls, vert=False, showfliers=False);"
   ]
  },
  {
   "cell_type": "markdown",
   "metadata": {},
   "source": [
    "A filtered dataset will consist:\n",
    "\n",
    "- total duration less then 1300 minutes\n",
    "- call counts less than 160"
   ]
  },
  {
   "cell_type": "code",
   "execution_count": 38,
   "metadata": {},
   "outputs": [
    {
     "data": {
      "image/png": "[encoded data removed]",
      "text/plain": [
       "<Figure size 432x288 with 2 Axes>"
      ]
     },
     "metadata": {
      "needs_background": "light"
     },
     "output_type": "display_data"
    }
   ],
   "source": [
    "#whisker plot with hidden outlier points\n",
    "plt.subplot(1,2,1)\n",
    "plt.title('sms_counts')\n",
    "plt.boxplot(df_events.sms_counts, vert=False, showfliers=False);\n",
    "\n",
    "plt.subplot(1,2,2)\n",
    "plt.title('total_traffic_mb')\n",
    "plt.boxplot(df_events.total_traffic_mb, vert=False, showfliers=False);"
   ]
  },
  {
   "cell_type": "markdown",
   "metadata": {},
   "source": [
    "A filtered dataset will consist:\n",
    "\n",
    "- sms counts less then 150\n",
    "- internet traffic less than 45000 MB"
   ]
  },
  {
   "cell_type": "code",
   "execution_count": 39,
   "metadata": {},
   "outputs": [],
   "source": [
    "#get rid outliers from dataset\n",
    "#Filtered dataset:\n",
    "df_filtered = df_events.query(\n",
    "    #total duration less then 1300 minutes\n",
    "    \"(total_duration>0 and total_duration<1300)\" +\n",
    "    #call counts less than 160\n",
    "    \" and (count_of_calls<160)\" +\n",
    "    #sms counts less then 150\n",
    "    \" and (sms_counts>0 and sms_counts<150)\" +\n",
    "    #total traffic mb less than 45000\n",
    "    \" and (total_traffic_mb>0 and total_traffic_mb<45000)\"\n",
    "    ).copy()"
   ]
  },
  {
   "cell_type": "code",
   "execution_count": 40,
   "metadata": {},
   "outputs": [
    {
     "name": "stdout",
     "output_type": "stream",
     "text": [
      "Number of rows in the event dataset:  1759\n",
      "Number of rows in the filtered dataset:  1712\n",
      "Percentage of records discarded: 2.67\n"
     ]
    }
   ],
   "source": [
    "df = df_events.query(\"total_duration>0 and sms_counts>0 and total_traffic_mb>0\")\n",
    "print(\"Number of rows in the event dataset: \", df.shape[0])\n",
    "print(\"Number of rows in the filtered dataset: \", df_filtered.shape[0])\n",
    "print(\"Percentage of records discarded:\", round(100-df_filtered.shape[0]*100/df.shape[0],2))"
   ]
  },
  {
   "cell_type": "markdown",
   "metadata": {},
   "source": [
    "The final dataset."
   ]
  },
  {
   "cell_type": "code",
   "execution_count": 41,
   "metadata": {},
   "outputs": [],
   "source": [
    "#df_users\n",
    "#set index\n",
    "df_users=df_users.set_index('user_id')"
   ]
  },
  {
   "cell_type": "code",
   "execution_count": 42,
   "metadata": {},
   "outputs": [],
   "source": [
    "#join events and service plan\n",
    "df_filtered = df_filtered.merge(df_users[['plan']], left_on=['user_id'], right_on=['user_id'])"
   ]
  },
  {
   "cell_type": "code",
   "execution_count": 43,
   "metadata": {},
   "outputs": [
    {
     "data": {
      "text/html": [
       "<div>\n",
       "<style scoped>\n",
       "    .dataframe tbody tr th:only-of-type {\n",
       "        vertical-align: middle;\n",
       "    }\n",
       "\n",
       "    .dataframe tbody tr th {\n",
       "        vertical-align: top;\n",
       "    }\n",
       "\n",
       "    .dataframe thead th {\n",
       "        text-align: right;\n",
       "    }\n",
       "</style>\n",
       "<table border=\"1\" class=\"dataframe\">\n",
       "  <thead>\n",
       "    <tr style=\"text-align: right;\">\n",
       "      <th></th>\n",
       "      <th>user_id</th>\n",
       "      <th>month</th>\n",
       "      <th>total_duration</th>\n",
       "      <th>count_of_calls</th>\n",
       "      <th>sms_counts</th>\n",
       "      <th>total_traffic_mb</th>\n",
       "      <th>plan</th>\n",
       "    </tr>\n",
       "  </thead>\n",
       "  <tbody>\n",
       "    <tr>\n",
       "      <th>0</th>\n",
       "      <td>1000.0</td>\n",
       "      <td>12</td>\n",
       "      <td>124.0</td>\n",
       "      <td>16.0</td>\n",
       "      <td>11.0</td>\n",
       "      <td>2281.764000</td>\n",
       "      <td>ultimate</td>\n",
       "    </tr>\n",
       "    <tr>\n",
       "      <th>1</th>\n",
       "      <td>1001.0</td>\n",
       "      <td>8</td>\n",
       "      <td>202.0</td>\n",
       "      <td>27.0</td>\n",
       "      <td>30.0</td>\n",
       "      <td>7944.646902</td>\n",
       "      <td>surf</td>\n",
       "    </tr>\n",
       "    <tr>\n",
       "      <th>2</th>\n",
       "      <td>1001.0</td>\n",
       "      <td>9</td>\n",
       "      <td>387.0</td>\n",
       "      <td>49.0</td>\n",
       "      <td>44.0</td>\n",
       "      <td>16434.690471</td>\n",
       "      <td>surf</td>\n",
       "    </tr>\n",
       "    <tr>\n",
       "      <th>3</th>\n",
       "      <td>1001.0</td>\n",
       "      <td>10</td>\n",
       "      <td>493.0</td>\n",
       "      <td>65.0</td>\n",
       "      <td>53.0</td>\n",
       "      <td>24762.122618</td>\n",
       "      <td>surf</td>\n",
       "    </tr>\n",
       "    <tr>\n",
       "      <th>4</th>\n",
       "      <td>1001.0</td>\n",
       "      <td>11</td>\n",
       "      <td>495.0</td>\n",
       "      <td>64.0</td>\n",
       "      <td>36.0</td>\n",
       "      <td>19284.700118</td>\n",
       "      <td>surf</td>\n",
       "    </tr>\n",
       "  </tbody>\n",
       "</table>\n",
       "</div>"
      ],
      "text/plain": [
       "   user_id  month  total_duration  count_of_calls  sms_counts  \\\n",
       "0   1000.0     12           124.0            16.0        11.0   \n",
       "1   1001.0      8           202.0            27.0        30.0   \n",
       "2   1001.0      9           387.0            49.0        44.0   \n",
       "3   1001.0     10           493.0            65.0        53.0   \n",
       "4   1001.0     11           495.0            64.0        36.0   \n",
       "\n",
       "   total_traffic_mb      plan  \n",
       "0       2281.764000  ultimate  \n",
       "1       7944.646902      surf  \n",
       "2      16434.690471      surf  \n",
       "3      24762.122618      surf  \n",
       "4      19284.700118      surf  "
      ]
     },
     "execution_count": 43,
     "metadata": {},
     "output_type": "execute_result"
    }
   ],
   "source": [
    "#rename column by meaning\n",
    "df_filtered.rename(columns={\"session_date\": \"month\"}, inplace=True)\n",
    "#dataset veiw\n",
    "df_filtered.head()"
   ]
  },
  {
   "cell_type": "markdown",
   "metadata": {},
   "source": [
    "Company Megaline has two service plans: \"Surf\" and \"Ultimate\".<br>\n",
    "Let's calculate the monthly income for each client.\n",
    "\n",
    "Firstly, we calculate the excess of the events limit and rate them."
   ]
  },
  {
   "cell_type": "code",
   "execution_count": 44,
   "metadata": {},
   "outputs": [],
   "source": [
    "def get_income(row, mark):\n",
    "    #this function returns montly fee by tariff plan\n",
    "    if (row['plan'] == 'surf'):\n",
    "        i = 0\n",
    "    else:\n",
    "        i = 1\n",
    "    if (mark == 0):   \n",
    "        #monthly_fee\n",
    "        return df_plans.iloc[i]['usd_monthly_pay'].astype(int)\n",
    "    elif (mark == 1):\n",
    "        #profit_calls_usd\n",
    "        overlimit = row['total_duration'] - df_plans.iloc[i]['minutes_included']\n",
    "        if overlimit > 0:        \n",
    "            return round(overlimit * df_plans.iloc[i]['usd_per_minute'], 2)\n",
    "    elif (mark == 2):\n",
    "        #profit_sms_usd\n",
    "        overlimit = row['sms_counts'] - df_plans.iloc[i]['messages_included']\n",
    "        if overlimit > 0:        \n",
    "            return round(overlimit * df_plans.iloc[i]['usd_per_message'], 2)\n",
    "    elif (mark == 3):\n",
    "        #profit_internet_usd\n",
    "        overlimit = row['total_traffic_mb'] - df_plans.iloc[i]['mb_per_month_included']\n",
    "        if overlimit > 0:        \n",
    "            return round(np.ceil(overlimit / 1024)* df_plans.iloc[i]['usd_per_gb'], 2)\n",
    "    return 0        "
   ]
  },
  {
   "cell_type": "code",
   "execution_count": 45,
   "metadata": {},
   "outputs": [],
   "source": [
    "#adding a column to the main dataset  \n",
    "df_filtered['monthly_fee'] = df_filtered.apply(lambda x: get_income(x , 0), axis=1)"
   ]
  },
  {
   "cell_type": "code",
   "execution_count": 46,
   "metadata": {},
   "outputs": [],
   "source": [
    "#adding a column to the main dataset     \n",
    "df_filtered['profit_calls_usd'] = df_filtered.apply(lambda x: get_income(x , 1), axis=1)"
   ]
  },
  {
   "cell_type": "code",
   "execution_count": 47,
   "metadata": {},
   "outputs": [],
   "source": [
    "#adding a column to the main dataset     \n",
    "df_filtered['profit_sms_usd'] = df_filtered.apply(lambda x: get_income(x , 2), axis=1)"
   ]
  },
  {
   "cell_type": "code",
   "execution_count": 48,
   "metadata": {},
   "outputs": [],
   "source": [
    "#adding a column to the main dataset     \n",
    "df_filtered['profit_internet_usd'] = df_filtered.apply(lambda x: get_income(x , 3), axis=1)"
   ]
  },
  {
   "cell_type": "markdown",
   "metadata": {},
   "source": [
    "Now we know how much money we will receive from each client."
   ]
  },
  {
   "cell_type": "code",
   "execution_count": 49,
   "metadata": {},
   "outputs": [
    {
     "data": {
      "text/html": [
       "<div>\n",
       "<style scoped>\n",
       "    .dataframe tbody tr th:only-of-type {\n",
       "        vertical-align: middle;\n",
       "    }\n",
       "\n",
       "    .dataframe tbody tr th {\n",
       "        vertical-align: top;\n",
       "    }\n",
       "\n",
       "    .dataframe thead th {\n",
       "        text-align: right;\n",
       "    }\n",
       "</style>\n",
       "<table border=\"1\" class=\"dataframe\">\n",
       "  <thead>\n",
       "    <tr style=\"text-align: right;\">\n",
       "      <th></th>\n",
       "      <th>plan</th>\n",
       "      <th>monthly_fee</th>\n",
       "      <th>profit_calls_usd</th>\n",
       "      <th>profit_sms_usd</th>\n",
       "      <th>profit_internet_usd</th>\n",
       "    </tr>\n",
       "  </thead>\n",
       "  <tbody>\n",
       "    <tr>\n",
       "      <th>0</th>\n",
       "      <td>ultimate</td>\n",
       "      <td>70</td>\n",
       "      <td>0.0</td>\n",
       "      <td>0.00</td>\n",
       "      <td>0.0</td>\n",
       "    </tr>\n",
       "    <tr>\n",
       "      <th>1</th>\n",
       "      <td>surf</td>\n",
       "      <td>20</td>\n",
       "      <td>0.0</td>\n",
       "      <td>0.00</td>\n",
       "      <td>0.0</td>\n",
       "    </tr>\n",
       "    <tr>\n",
       "      <th>2</th>\n",
       "      <td>surf</td>\n",
       "      <td>20</td>\n",
       "      <td>0.0</td>\n",
       "      <td>0.00</td>\n",
       "      <td>20.0</td>\n",
       "    </tr>\n",
       "    <tr>\n",
       "      <th>3</th>\n",
       "      <td>surf</td>\n",
       "      <td>20</td>\n",
       "      <td>0.0</td>\n",
       "      <td>0.09</td>\n",
       "      <td>100.0</td>\n",
       "    </tr>\n",
       "    <tr>\n",
       "      <th>4</th>\n",
       "      <td>surf</td>\n",
       "      <td>20</td>\n",
       "      <td>0.0</td>\n",
       "      <td>0.00</td>\n",
       "      <td>40.0</td>\n",
       "    </tr>\n",
       "    <tr>\n",
       "      <th>5</th>\n",
       "      <td>surf</td>\n",
       "      <td>20</td>\n",
       "      <td>0.0</td>\n",
       "      <td>0.00</td>\n",
       "      <td>60.0</td>\n",
       "    </tr>\n",
       "  </tbody>\n",
       "</table>\n",
       "</div>"
      ],
      "text/plain": [
       "       plan  monthly_fee  profit_calls_usd  profit_sms_usd  \\\n",
       "0  ultimate           70               0.0            0.00   \n",
       "1      surf           20               0.0            0.00   \n",
       "2      surf           20               0.0            0.00   \n",
       "3      surf           20               0.0            0.09   \n",
       "4      surf           20               0.0            0.00   \n",
       "5      surf           20               0.0            0.00   \n",
       "\n",
       "   profit_internet_usd  \n",
       "0                  0.0  \n",
       "1                  0.0  \n",
       "2                 20.0  \n",
       "3                100.0  \n",
       "4                 40.0  \n",
       "5                 60.0  "
      ]
     },
     "execution_count": 49,
     "metadata": {},
     "output_type": "execute_result"
    }
   ],
   "source": [
    "df_filtered.loc[0:5, 'plan':]"
   ]
  },
  {
   "cell_type": "markdown",
   "metadata": {},
   "source": [
    "**What is the distribution of average monthly income by service plans?** <a class=\"anchor\" id=\"Q1\"></a>"
   ]
  },
  {
   "cell_type": "code",
   "execution_count": 50,
   "metadata": {},
   "outputs": [
    {
     "data": {
      "image/png": "[encoded data removed]",
      "text/plain": [
       "<Figure size 1080x288 with 1 Axes>"
      ]
     },
     "metadata": {
      "needs_background": "light"
     },
     "output_type": "display_data"
    }
   ],
   "source": [
    "#total amount of charges\n",
    "df_filtered['total_usd'] = (df_filtered['monthly_fee']+df_filtered['profit_calls_usd']+\n",
    "                            df_filtered['profit_sms_usd']+df_filtered['profit_internet_usd'])\n",
    "#plot\n",
    "fig, ax = plt.subplots(figsize=(15, 4))\n",
    "(\n",
    "    pd.pivot_table(df_filtered, index=['month'], columns=['plan'], values=['total_usd'], aggfunc='mean')\n",
    ").plot(style='o-', title='The total amount of charges per month',ax=ax);"
   ]
  },
  {
   "cell_type": "markdown",
   "metadata": {},
   "source": [
    "The graph shows that income from customers using the Ultimate service plan is consistently around the monthly fee. Surf plan customers spend well above their monthly fee by service plan."
   ]
  },
  {
   "cell_type": "code",
   "execution_count": 51,
   "metadata": {},
   "outputs": [
    {
     "data": {
      "text/html": [
       "<div>\n",
       "<style scoped>\n",
       "    .dataframe tbody tr th:only-of-type {\n",
       "        vertical-align: middle;\n",
       "    }\n",
       "\n",
       "    .dataframe tbody tr th {\n",
       "        vertical-align: top;\n",
       "    }\n",
       "\n",
       "    .dataframe thead th {\n",
       "        text-align: right;\n",
       "    }\n",
       "</style>\n",
       "<table border=\"1\" class=\"dataframe\">\n",
       "  <thead>\n",
       "    <tr style=\"text-align: right;\">\n",
       "      <th></th>\n",
       "      <th>profit_calls_usd</th>\n",
       "      <th>profit_sms_usd</th>\n",
       "      <th>profit_internet_usd</th>\n",
       "      <th>total_usd</th>\n",
       "    </tr>\n",
       "    <tr>\n",
       "      <th>plan</th>\n",
       "      <th></th>\n",
       "      <th></th>\n",
       "      <th></th>\n",
       "      <th></th>\n",
       "    </tr>\n",
       "  </thead>\n",
       "  <tbody>\n",
       "    <tr>\n",
       "      <th>surf</th>\n",
       "      <td>3.034263</td>\n",
       "      <td>0.217253</td>\n",
       "      <td>48.050260</td>\n",
       "      <td>71.301776</td>\n",
       "    </tr>\n",
       "    <tr>\n",
       "      <th>ultimate</th>\n",
       "      <td>0.000000</td>\n",
       "      <td>0.000000</td>\n",
       "      <td>2.659498</td>\n",
       "      <td>72.659498</td>\n",
       "    </tr>\n",
       "  </tbody>\n",
       "</table>\n",
       "</div>"
      ],
      "text/plain": [
       "          profit_calls_usd  profit_sms_usd  profit_internet_usd  total_usd\n",
       "plan                                                                      \n",
       "surf              3.034263        0.217253            48.050260  71.301776\n",
       "ultimate          0.000000        0.000000             2.659498  72.659498"
      ]
     },
     "execution_count": 51,
     "metadata": {},
     "output_type": "execute_result"
    }
   ],
   "source": [
    "#basic statistical details - mean\n",
    "(df_filtered.groupby('plan').mean()\n",
    " .loc[:,['profit_calls_usd','profit_sms_usd','profit_internet_usd','total_usd']]\n",
    ")"
   ]
  },
  {
   "cell_type": "markdown",
   "metadata": {},
   "source": [
    "As we can see, on average, the greatest income comes from using the mobile Internet in excess of the limit for the service plan."
   ]
  },
  {
   "cell_type": "markdown",
   "metadata": {},
   "source": [
    "**How customers of different service plans use mobile network services.**<a class=\"anchor\" id=\"Q2\"></a>"
   ]
  },
  {
   "cell_type": "code",
   "execution_count": 52,
   "metadata": {},
   "outputs": [
    {
     "data": {
      "image/png": "[encoded data removed]",
      "text/plain": [
       "<Figure size 1080x288 with 1 Axes>"
      ]
     },
     "metadata": {
      "needs_background": "light"
     },
     "output_type": "display_data"
    }
   ],
   "source": [
    "#minutes of each plan per month\n",
    "fig, ax = plt.subplots(figsize=(15, 4))\n",
    "(\n",
    "    pd.pivot_table(df_filtered, index=['month'], columns=['plan'], values=['total_duration'], aggfunc='mean')\n",
    ").plot(style='o-', title='Minutes for each plan', ax=ax);"
   ]
  },
  {
   "cell_type": "markdown",
   "metadata": {},
   "source": [
    "Until April, the number of calls by Ultimate service plan was 1.5 times higher. After April, the number of calls differs slightly and steadily increases for both service plans."
   ]
  },
  {
   "cell_type": "code",
   "execution_count": 53,
   "metadata": {},
   "outputs": [
    {
     "data": {
      "image/png": "[encoded data removed]",
      "text/plain": [
       "<Figure size 1080x288 with 1 Axes>"
      ]
     },
     "metadata": {
      "needs_background": "light"
     },
     "output_type": "display_data"
    }
   ],
   "source": [
    "#text messages of each plan per month\n",
    "fig, ax = plt.subplots(figsize=(15, 4))\n",
    "(\n",
    "    pd.pivot_table(df_filtered, index=['month'], columns=['plan'], values=['sms_counts'], aggfunc='mean')\n",
    ").plot(style='o-', title='Text messages for each plan', ax=ax);"
   ]
  },
  {
   "cell_type": "markdown",
   "metadata": {},
   "source": [
    "Ultimate service plan customers use text messages more often. However, on average, no more than 50 messages per month, as well as the clients with the Serf service plan."
   ]
  },
  {
   "cell_type": "code",
   "execution_count": 54,
   "metadata": {},
   "outputs": [
    {
     "data": {
      "image/png": "[encoded data removed]",
      "text/plain": [
       "<Figure size 1080x288 with 1 Axes>"
      ]
     },
     "metadata": {
      "needs_background": "light"
     },
     "output_type": "display_data"
    }
   ],
   "source": [
    "#volume of internet traffic of each plan per month\n",
    "fig, ax = plt.subplots(figsize=(15, 4))\n",
    "(\n",
    "    pd.pivot_table(df_filtered, index=['month'], columns=['plan'], values=['total_traffic_mb'], aggfunc='mean')\n",
    ").plot(style='o-', title='Internet traffic for each plan', ax=ax);"
   ]
  },
  {
   "cell_type": "markdown",
   "metadata": {},
   "source": [
    "Until April, Ultimate service plan customers actively used mobile Internet, on average about 25 GB. Surf service plan customers followed the service plan's traffic limits first, then usage increased. Since April, customers of both plans have been sticking to around 20 GB per month.\n",
    "\n",
    "Let's see the correlation between parameters."
   ]
  },
  {
   "cell_type": "code",
   "execution_count": 55,
   "metadata": {},
   "outputs": [
    {
     "data": {
      "image/png": "[encoded data removed]",
      "text/plain": [
       "<Figure size 797.75x720 with 14 Axes>"
      ]
     },
     "metadata": {
      "needs_background": "light"
     },
     "output_type": "display_data"
    }
   ],
   "source": [
    "sns.pairplot(df_filtered.loc[:,['plan','total_duration','count_of_calls','sms_counts','total_traffic_mb'] ]\n",
    "             , kind=\"reg\", hue=\"plan\", corner=True, palette=\"Set2\", height=2.5);"
   ]
  },
  {
   "cell_type": "markdown",
   "metadata": {},
   "source": [
    "The matrix shows a strong correlation between the duration of calls and their counts. The rest of the parameters have a weak but positive correlation with others.\n",
    "\n",
    "To summarize, we will use the main statistical parameters - mean and standard deviation."
   ]
  },
  {
   "cell_type": "code",
   "execution_count": 56,
   "metadata": {},
   "outputs": [
    {
     "data": {
      "text/html": [
       "<div>\n",
       "<style scoped>\n",
       "    .dataframe tbody tr th:only-of-type {\n",
       "        vertical-align: middle;\n",
       "    }\n",
       "\n",
       "    .dataframe tbody tr th {\n",
       "        vertical-align: top;\n",
       "    }\n",
       "\n",
       "    .dataframe thead th {\n",
       "        text-align: right;\n",
       "    }\n",
       "</style>\n",
       "<table border=\"1\" class=\"dataframe\">\n",
       "  <thead>\n",
       "    <tr style=\"text-align: right;\">\n",
       "      <th></th>\n",
       "      <th>total_duration</th>\n",
       "      <th>count_of_calls</th>\n",
       "      <th>sms_counts</th>\n",
       "      <th>total_traffic_mb</th>\n",
       "    </tr>\n",
       "    <tr>\n",
       "      <th>plan</th>\n",
       "      <th></th>\n",
       "      <th></th>\n",
       "      <th></th>\n",
       "      <th></th>\n",
       "    </tr>\n",
       "  </thead>\n",
       "  <tbody>\n",
       "    <tr>\n",
       "      <th>surf</th>\n",
       "      <td>503.107452</td>\n",
       "      <td>60.645581</td>\n",
       "      <td>37.902946</td>\n",
       "      <td>17939.290872</td>\n",
       "    </tr>\n",
       "    <tr>\n",
       "      <th>ultimate</th>\n",
       "      <td>492.935484</td>\n",
       "      <td>59.682796</td>\n",
       "      <td>44.388889</td>\n",
       "      <td>18601.794087</td>\n",
       "    </tr>\n",
       "  </tbody>\n",
       "</table>\n",
       "</div>"
      ],
      "text/plain": [
       "          total_duration  count_of_calls  sms_counts  total_traffic_mb\n",
       "plan                                                                  \n",
       "surf          503.107452       60.645581   37.902946      17939.290872\n",
       "ultimate      492.935484       59.682796   44.388889      18601.794087"
      ]
     },
     "execution_count": 56,
     "metadata": {},
     "output_type": "execute_result"
    }
   ],
   "source": [
    "#basic statistical details - mean\n",
    "(df_filtered.groupby('plan').mean()\n",
    " .loc[:,['total_duration','count_of_calls','sms_counts','total_traffic_mb']]\n",
    ")"
   ]
  },
  {
   "cell_type": "code",
   "execution_count": 57,
   "metadata": {},
   "outputs": [
    {
     "data": {
      "text/html": [
       "<div>\n",
       "<style scoped>\n",
       "    .dataframe tbody tr th:only-of-type {\n",
       "        vertical-align: middle;\n",
       "    }\n",
       "\n",
       "    .dataframe tbody tr th {\n",
       "        vertical-align: top;\n",
       "    }\n",
       "\n",
       "    .dataframe thead th {\n",
       "        text-align: right;\n",
       "    }\n",
       "</style>\n",
       "<table border=\"1\" class=\"dataframe\">\n",
       "  <thead>\n",
       "    <tr style=\"text-align: right;\">\n",
       "      <th></th>\n",
       "      <th>total_duration</th>\n",
       "      <th>count_of_calls</th>\n",
       "      <th>sms_counts</th>\n",
       "      <th>total_traffic_mb</th>\n",
       "    </tr>\n",
       "    <tr>\n",
       "      <th>plan</th>\n",
       "      <th></th>\n",
       "      <th></th>\n",
       "      <th></th>\n",
       "      <th></th>\n",
       "    </tr>\n",
       "  </thead>\n",
       "  <tbody>\n",
       "    <tr>\n",
       "      <th>surf</th>\n",
       "      <td>251.964821</td>\n",
       "      <td>29.921030</td>\n",
       "      <td>28.992823</td>\n",
       "      <td>7769.338840</td>\n",
       "    </tr>\n",
       "    <tr>\n",
       "      <th>ultimate</th>\n",
       "      <td>258.577783</td>\n",
       "      <td>30.828967</td>\n",
       "      <td>30.679633</td>\n",
       "      <td>7820.684598</td>\n",
       "    </tr>\n",
       "  </tbody>\n",
       "</table>\n",
       "</div>"
      ],
      "text/plain": [
       "          total_duration  count_of_calls  sms_counts  total_traffic_mb\n",
       "plan                                                                  \n",
       "surf          251.964821       29.921030   28.992823       7769.338840\n",
       "ultimate      258.577783       30.828967   30.679633       7820.684598"
      ]
     },
     "execution_count": 57,
     "metadata": {},
     "output_type": "execute_result"
    }
   ],
   "source": [
    "#basic statistical details - standard deviation\n",
    "(df_filtered.groupby('plan').std()\n",
    " .loc[:,['total_duration','count_of_calls','sms_counts','total_traffic_mb']]\n",
    ")"
   ]
  },
  {
   "cell_type": "markdown",
   "metadata": {},
   "source": [
    "### Conclusion <a class=\"anchor\" id=\"Conclusion_Part_3\"></a>\n",
    "User behavior.<br>\n",
    "On average, there is no difference in the use of mobile provider services by customers of different service plans. Customers of both plans have an average of 507 minutes of conversation per month, making 57 calls, sending 37 text messages and using 18676 megabytes (18.2 gigabytes).<br>\n",
    "Also, we can expect about 68% of values to be within plus-or-minus 1 standard deviation.\n",
    "\n",
    "Monthly income.<br> \n",
    "As we have seen, the highest income comes from using the mobile Internet in excess of the service plan limit. Income from customers using the Ultimate service plan is consistently around the monthly fee.<br>\n",
    "Regardless of the service plan, the average customer revenue averages $74."
   ]
  },
  {
   "cell_type": "markdown",
   "metadata": {},
   "source": [
    "## Step 4. Test the hypotheses <a class=\"anchor\" id=\"Part_4\"></a>\n",
    "[Go back to the Contents](#contents)\n",
    "\n",
    "Let's check our results."
   ]
  },
  {
   "cell_type": "markdown",
   "metadata": {},
   "source": [
    "*Hypothesis test 1*<br>\n",
    "The null hypothesis H₀ is always stated with an equal sign, so:<br> \n",
    "H₀  - Average income from clients of service plan Ultimate and Surf equal\n",
    "\n",
    "The alternative hypothesis, H₁, is based on H₀, so:<br>\n",
    "H₁  - Average income from clients of service plan Ultimate and Surf differ\n",
    "\n",
    "The significant level = 0.05\n",
    "\n",
    "In order to test a hypothesis that the means of the two statistical populations are equal based on samples taken from them, we will apply a scipy.stats.ttest_ind method.\n",
    "This is a two-sided test for the null hypothesis that 2 independent samples have identical average (expected) values. "
   ]
  },
  {
   "cell_type": "code",
   "execution_count": 58,
   "metadata": {},
   "outputs": [],
   "source": [
    "def ttest(sample_1, sample_2):\n",
    "    alpha = .05 #The significant level\n",
    "\n",
    "    results = st.ttest_ind(\n",
    "            sample_1, \n",
    "            sample_2)\n",
    "\n",
    "    #if the p-value is less than alpha, we reject the hypothesis\n",
    "    print('p-value: ', results.pvalue)\n",
    " \n",
    "    if (results.pvalue < alpha):\n",
    "        print(\"We reject the null hypothesis\")\n",
    "    else:\n",
    "        print(\"We can't reject the null hypothesis\")\n"
   ]
  },
  {
   "cell_type": "code",
   "execution_count": 59,
   "metadata": {},
   "outputs": [
    {
     "name": "stdout",
     "output_type": "stream",
     "text": [
      "p-value:  0.5498933965674158\n",
      "We can't reject the null hypothesis\n"
     ]
    }
   ],
   "source": [
    "#monthly income of the service plan Serf\n",
    "list_1 = df_filtered.loc[(df_filtered['plan']=='surf')]['total_usd'].tolist()\n",
    "#monthly income of the service plan Ultimate\n",
    "list_2 = df_filtered.loc[(df_filtered['plan']=='ultimate')]['total_usd'].tolist()\n",
    "ttest( list_1, list_2)"
   ]
  },
  {
   "cell_type": "markdown",
   "metadata": {},
   "source": [
    "The p-value shows 54% probability of a null hypothesis.<br>\n",
    "Our conclusions in the first part of the book are consistent with the result.<br>\n",
    "Mean by service plan Serf - 71.3<br>\n",
    "Mean by service plan Ultimate - 72.6<br>\n",
    "\n",
    "\n",
    "*Hypothesis test 2*<br>\n",
    "The null hypothesis H₀ is always stated with an equal sign, so:<br> \n",
    "H₀  - The average profit from users in NY-NJ area is equal from that of the users from other regions.\n",
    "\n",
    "The alternative hypothesis, H₁, is based on H₀, so:<br>\n",
    "H₁  - The average profit from users in NY-NJ area is different from that of the users from other regions.\n",
    "\n",
    "The significant level = 0.05\n",
    "\n",
    "We will apply a scipy.stats.ttest_ind method here as well"
   ]
  },
  {
   "cell_type": "code",
   "execution_count": 60,
   "metadata": {},
   "outputs": [
    {
     "name": "stdout",
     "output_type": "stream",
     "text": [
      "p-value:  0.9506057586335929\n",
      "We can't reject the null hypothesis\n"
     ]
    }
   ],
   "source": [
    "#The average profit from users in NY-NJ area\n",
    "#NY-NJ area\n",
    "df = df_users[(df_users.city.str.contains(\"NY|NJ\"))]\n",
    "\n",
    "#monthly income of the NY-NJ area\n",
    "list_1 = df_filtered[df_filtered.user_id.isin(df.index)]['total_usd'].tolist()\n",
    "#monthly income of others\n",
    "list_2 = df_filtered[~df_filtered.user_id.isin(df.index)]['total_usd'].tolist()\n",
    "ttest(list_1, list_2)"
   ]
  },
  {
   "cell_type": "markdown",
   "metadata": {},
   "source": [
    "The p-value tells us that there is a 95% probability that the average profit from users in NY-NJ area is equal from that of the users from other regions."
   ]
  },
  {
   "cell_type": "markdown",
   "metadata": {},
   "source": [
    "## General conclusion.<a class=\"anchor\" id=\"General_Conclusion\"></a>\n",
    "\n",
    "[Go back to the Contents](#contents)\n",
    "\n",
    "This book presents an analysis of the data of the mobile operator Megaline.<br>\n",
    "Data is provided on 500 customers who made calls, sent text messages and used mobile Internet. Megaline has two service plans, Serf and Ultimate.<br>\n",
    "This analysis shows patterns of customer behavior. And also the difference in charges for both service plans.\n",
    "\n",
    "The quality of the data provided is high and required minimal changes. We interpolated call duration values and traffic volume to remove anomalies and keep the sample size.\n",
    "\n",
    "Then, we normalized data and found that the sample consists of entities with calls total duration less than 1300 minutes, call counts less than 160, sms counts less than 150, and Internet traffic volume less than 45,000MB.\n",
    "\n",
    "In the filtered dataset, we added the tariffication of events according to the tariffs of the service plans. Then we  calculated the monthly profit by clients and compared the company's monthly revenue by service plan. We also identified patterns of customer behavior in the Megaline network.\n",
    "\n",
    "In turn, we tested two hypotheses:\n",
    "- The average profit from users of Ultimate and Surf calling plans differs.\n",
    "- The average profit from users in NY-NJ area is different from that of the users from other regions.\n",
    "\n",
    "We rejected both of them."
   ]
  }
 ],
 "metadata": {
  "kernelspec": {
   "display_name": "Python 3",
   "language": "python",
   "name": "python3"
  },
  "language_info": {
   "codemirror_mode": {
    "name": "ipython",
    "version": 3
   },
   "file_extension": ".py",
   "mimetype": "text/x-python",
   "name": "python",
   "nbconvert_exporter": "python",
   "pygments_lexer": "ipython3",
   "version": "3.7.9"
  },
  "toc": {
   "base_numbering": 1,
   "nav_menu": {},
   "number_sections": true,
   "sideBar": true,
   "skip_h1_title": false,
   "title_cell": "Table of Contents",
   "title_sidebar": "Contents",
   "toc_cell": false,
   "toc_position": {},
   "toc_section_display": true,
   "toc_window_display": false
  }
 },
 "nbformat": 4,
 "nbformat_minor": 2
}
